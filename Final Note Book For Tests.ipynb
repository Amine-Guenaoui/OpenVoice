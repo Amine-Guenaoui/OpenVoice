{
 "cells": [
  {
   "cell_type": "markdown",
   "id": "b6ee1ede",
   "metadata": {},
   "source": [
    "## Voice Style Control Demo For Google Colab"
   ]
  },
  {
   "cell_type": "markdown",
   "id": "4191b69c",
   "metadata": {},
   "source": [
    "Clone the repository for google Colab"
   ]
  },
  {
   "cell_type": "code",
   "execution_count": null,
   "id": "cd36f6fd",
   "metadata": {},
   "outputs": [],
   "source": [
    "!git clone https://github.com/Amine-Guenaoui/OpenVoice"
   ]
  },
  {
   "cell_type": "markdown",
   "id": "b54195ef",
   "metadata": {},
   "source": [
    "Go inside the necessary Folder ( if you have restarted the Session you have to go inside the folder again)"
   ]
  },
  {
   "cell_type": "code",
   "execution_count": null,
   "id": "255e7f3c",
   "metadata": {},
   "outputs": [],
   "source": [
    "cd OpenVoice"
   ]
  },
  {
   "cell_type": "markdown",
   "id": "e9b90a8c",
   "metadata": {},
   "source": [
    "Download The Checkpoints Folder"
   ]
  },
  {
   "cell_type": "code",
   "execution_count": 1,
   "id": "9a1849e4",
   "metadata": {},
   "outputs": [
    {
     "data": {
      "text/plain": [
       "420616031"
      ]
     },
     "execution_count": 1,
     "metadata": {},
     "output_type": "execute_result"
    }
   ],
   "source": [
    "import requests\n",
    "url = \"https://myshell-public-repo-hosting.s3.amazonaws.com/checkpoints_1226.zip\"\n",
    "r = requests.get(url, allow_redirects=True)\n",
    "\n",
    "open('checkpoints_1226.zip', 'wb').write(r.content)"
   ]
  },
  {
   "cell_type": "markdown",
   "id": "d91bb834",
   "metadata": {},
   "source": [
    "Extract the checkpoints Folder"
   ]
  },
  {
   "cell_type": "code",
   "execution_count": 5,
   "id": "21776e96",
   "metadata": {},
   "outputs": [],
   "source": [
    "import zipfile\n",
    "with zipfile.ZipFile(\"checkpoints_1226.zip\",\"r\") as zip_ref:\n",
    "    zip_ref.extractall(\"\")"
   ]
  },
  {
   "cell_type": "markdown",
   "id": "f310cabb",
   "metadata": {},
   "source": [
    "Install the Requirements May Require Restarting the Machine ( don't forget to go inside the folder again )"
   ]
  },
  {
   "cell_type": "code",
   "execution_count": 51,
   "id": "96a99e87",
   "metadata": {},
   "outputs": [
    {
     "name": "stdout",
     "output_type": "stream",
     "text": [
      "Requirement already satisfied: librosa in c:\\users\\gaming\\appdata\\local\\programs\\python\\python312\\lib\\site-packages (from -r requirements.txt (line 1)) (0.10.2.post1)\n",
      "Requirement already satisfied: faster-whisper in c:\\users\\gaming\\appdata\\local\\programs\\python\\python312\\lib\\site-packages (from -r requirements.txt (line 2)) (1.0.2)\n",
      "Requirement already satisfied: pydub in c:\\users\\gaming\\appdata\\local\\programs\\python\\python312\\lib\\site-packages (from -r requirements.txt (line 3)) (0.25.1)\n",
      "Requirement already satisfied: wavmark in c:\\users\\gaming\\appdata\\local\\programs\\python\\python312\\lib\\site-packages (from -r requirements.txt (line 4)) (0.0.3)\n",
      "Requirement already satisfied: eng_to_ipa in c:\\users\\gaming\\appdata\\local\\programs\\python\\python312\\lib\\site-packages (from -r requirements.txt (line 5)) (0.0.2)\n",
      "Requirement already satisfied: inflect in c:\\users\\gaming\\appdata\\local\\programs\\python\\python312\\lib\\site-packages (from -r requirements.txt (line 6)) (7.2.1)\n",
      "Requirement already satisfied: unidecode in c:\\users\\gaming\\appdata\\local\\programs\\python\\python312\\lib\\site-packages (from -r requirements.txt (line 7)) (1.3.2)\n",
      "Requirement already satisfied: whisper-timestamped in c:\\users\\gaming\\appdata\\local\\programs\\python\\python312\\lib\\site-packages (from -r requirements.txt (line 8)) (1.15.4)\n",
      "Requirement already satisfied: openai in c:\\users\\gaming\\appdata\\local\\programs\\python\\python312\\lib\\site-packages (from -r requirements.txt (line 9)) (1.30.5)\n",
      "Requirement already satisfied: python-dotenv in c:\\users\\gaming\\appdata\\local\\programs\\python\\python312\\lib\\site-packages (from -r requirements.txt (line 10)) (1.0.1)\n",
      "Requirement already satisfied: pypinyin in c:\\users\\gaming\\appdata\\local\\programs\\python\\python312\\lib\\site-packages (from -r requirements.txt (line 11)) (0.51.0)\n",
      "Requirement already satisfied: cn2an in c:\\users\\gaming\\appdata\\local\\programs\\python\\python312\\lib\\site-packages (from -r requirements.txt (line 12)) (0.5.22)\n",
      "Requirement already satisfied: jieba in c:\\users\\gaming\\appdata\\local\\programs\\python\\python312\\lib\\site-packages (from -r requirements.txt (line 13)) (0.42.1)\n",
      "Requirement already satisfied: gradio in c:\\users\\gaming\\appdata\\local\\programs\\python\\python312\\lib\\site-packages (from -r requirements.txt (line 14)) (4.32.0)\n",
      "Requirement already satisfied: langid in c:\\users\\gaming\\appdata\\local\\programs\\python\\python312\\lib\\site-packages (from -r requirements.txt (line 15)) (1.1.6)\n",
      "Requirement already satisfied: audioread>=2.1.9 in c:\\users\\gaming\\appdata\\local\\programs\\python\\python312\\lib\\site-packages (from librosa->-r requirements.txt (line 1)) (3.0.1)\n",
      "Requirement already satisfied: numpy!=1.22.0,!=1.22.1,!=1.22.2,>=1.20.3 in c:\\users\\gaming\\appdata\\local\\programs\\python\\python312\\lib\\site-packages (from librosa->-r requirements.txt (line 1)) (1.26.4)\n",
      "Requirement already satisfied: scipy>=1.2.0 in c:\\users\\gaming\\appdata\\local\\programs\\python\\python312\\lib\\site-packages (from librosa->-r requirements.txt (line 1)) (1.13.1)\n",
      "Requirement already satisfied: scikit-learn>=0.20.0 in c:\\users\\gaming\\appdata\\local\\programs\\python\\python312\\lib\\site-packages (from librosa->-r requirements.txt (line 1)) (1.5.0)\n",
      "Requirement already satisfied: joblib>=0.14 in c:\\users\\gaming\\appdata\\local\\programs\\python\\python312\\lib\\site-packages (from librosa->-r requirements.txt (line 1)) (1.4.2)\n",
      "Requirement already satisfied: decorator>=4.3.0 in c:\\users\\gaming\\appdata\\local\\programs\\python\\python312\\lib\\site-packages (from librosa->-r requirements.txt (line 1)) (5.1.1)\n",
      "Requirement already satisfied: numba>=0.51.0 in c:\\users\\gaming\\appdata\\local\\programs\\python\\python312\\lib\\site-packages (from librosa->-r requirements.txt (line 1)) (0.59.1)\n",
      "Requirement already satisfied: soundfile>=0.12.1 in c:\\users\\gaming\\appdata\\local\\programs\\python\\python312\\lib\\site-packages (from librosa->-r requirements.txt (line 1)) (0.12.1)\n",
      "Requirement already satisfied: pooch>=1.1 in c:\\users\\gaming\\appdata\\local\\programs\\python\\python312\\lib\\site-packages (from librosa->-r requirements.txt (line 1)) (1.8.1)\n",
      "Requirement already satisfied: soxr>=0.3.2 in c:\\users\\gaming\\appdata\\local\\programs\\python\\python312\\lib\\site-packages (from librosa->-r requirements.txt (line 1)) (0.3.7)\n",
      "Requirement already satisfied: typing-extensions>=4.1.1 in c:\\users\\gaming\\appdata\\local\\programs\\python\\python312\\lib\\site-packages (from librosa->-r requirements.txt (line 1)) (4.12.0)\n",
      "Requirement already satisfied: lazy-loader>=0.1 in c:\\users\\gaming\\appdata\\local\\programs\\python\\python312\\lib\\site-packages (from librosa->-r requirements.txt (line 1)) (0.4)\n",
      "Requirement already satisfied: msgpack>=1.0 in c:\\users\\gaming\\appdata\\local\\programs\\python\\python312\\lib\\site-packages (from librosa->-r requirements.txt (line 1)) (1.0.8)\n",
      "Requirement already satisfied: av<13,>=11.0 in c:\\users\\gaming\\appdata\\local\\programs\\python\\python312\\lib\\site-packages (from faster-whisper->-r requirements.txt (line 2)) (12.1.0)\n",
      "Requirement already satisfied: ctranslate2<5,>=4.0 in c:\\users\\gaming\\appdata\\local\\programs\\python\\python312\\lib\\site-packages (from faster-whisper->-r requirements.txt (line 2)) (4.2.1)\n",
      "Requirement already satisfied: huggingface-hub>=0.13 in c:\\users\\gaming\\appdata\\local\\programs\\python\\python312\\lib\\site-packages (from faster-whisper->-r requirements.txt (line 2)) (0.23.2)\n",
      "Requirement already satisfied: tokenizers<1,>=0.13 in c:\\users\\gaming\\appdata\\local\\programs\\python\\python312\\lib\\site-packages (from faster-whisper->-r requirements.txt (line 2)) (0.19.1)\n",
      "Requirement already satisfied: onnxruntime<2,>=1.14 in c:\\users\\gaming\\appdata\\local\\programs\\python\\python312\\lib\\site-packages (from faster-whisper->-r requirements.txt (line 2)) (1.18.0)\n",
      "Requirement already satisfied: resampy in c:\\users\\gaming\\appdata\\local\\programs\\python\\python312\\lib\\site-packages (from wavmark->-r requirements.txt (line 4)) (0.4.3)\n",
      "Requirement already satisfied: torch in c:\\users\\gaming\\appdata\\local\\programs\\python\\python312\\lib\\site-packages (from wavmark->-r requirements.txt (line 4)) (2.3.0)\n",
      "Requirement already satisfied: torchaudio in c:\\users\\gaming\\appdata\\local\\programs\\python\\python312\\lib\\site-packages (from wavmark->-r requirements.txt (line 4)) (2.3.0)\n",
      "Requirement already satisfied: tqdm in c:\\users\\gaming\\appdata\\local\\programs\\python\\python312\\lib\\site-packages (from wavmark->-r requirements.txt (line 4)) (4.62.3)\n",
      "Requirement already satisfied: more-itertools in c:\\users\\gaming\\appdata\\local\\programs\\python\\python312\\lib\\site-packages (from inflect->-r requirements.txt (line 6)) (10.2.0)\n",
      "Requirement already satisfied: typeguard>=4.0.1 in c:\\users\\gaming\\appdata\\local\\programs\\python\\python312\\lib\\site-packages (from inflect->-r requirements.txt (line 6)) (4.3.0)\n",
      "Requirement already satisfied: Cython in c:\\users\\gaming\\appdata\\local\\programs\\python\\python312\\lib\\site-packages (from whisper-timestamped->-r requirements.txt (line 8)) (3.0.10)\n",
      "Requirement already satisfied: dtw-python in c:\\users\\gaming\\appdata\\local\\programs\\python\\python312\\lib\\site-packages (from whisper-timestamped->-r requirements.txt (line 8)) (1.5.1)\n",
      "Requirement already satisfied: openai-whisper in c:\\users\\gaming\\appdata\\local\\programs\\python\\python312\\lib\\site-packages (from whisper-timestamped->-r requirements.txt (line 8)) (20231117)\n",
      "Requirement already satisfied: anyio<5,>=3.5.0 in c:\\users\\gaming\\appdata\\local\\programs\\python\\python312\\lib\\site-packages (from openai->-r requirements.txt (line 9)) (4.4.0)\n",
      "Requirement already satisfied: distro<2,>=1.7.0 in c:\\users\\gaming\\appdata\\local\\programs\\python\\python312\\lib\\site-packages (from openai->-r requirements.txt (line 9)) (1.9.0)\n",
      "Requirement already satisfied: httpx<1,>=0.23.0 in c:\\users\\gaming\\appdata\\local\\programs\\python\\python312\\lib\\site-packages (from openai->-r requirements.txt (line 9)) (0.27.0)\n",
      "Requirement already satisfied: pydantic<3,>=1.9.0 in c:\\users\\gaming\\appdata\\local\\programs\\python\\python312\\lib\\site-packages (from openai->-r requirements.txt (line 9)) (2.7.2)\n",
      "Requirement already satisfied: sniffio in c:\\users\\gaming\\appdata\\local\\programs\\python\\python312\\lib\\site-packages (from openai->-r requirements.txt (line 9)) (1.3.1)\n",
      "Requirement already satisfied: setuptools>=47.3.1 in c:\\users\\gaming\\appdata\\local\\programs\\python\\python312\\lib\\site-packages (from cn2an->-r requirements.txt (line 12)) (70.0.0)\n",
      "Requirement already satisfied: proces>=0.1.3 in c:\\users\\gaming\\appdata\\local\\programs\\python\\python312\\lib\\site-packages (from cn2an->-r requirements.txt (line 12)) (0.1.7)\n",
      "Requirement already satisfied: aiofiles<24.0,>=22.0 in c:\\users\\gaming\\appdata\\local\\programs\\python\\python312\\lib\\site-packages (from gradio->-r requirements.txt (line 14)) (23.2.1)\n",
      "Requirement already satisfied: altair<6.0,>=4.2.0 in c:\\users\\gaming\\appdata\\local\\programs\\python\\python312\\lib\\site-packages (from gradio->-r requirements.txt (line 14)) (5.3.0)\n",
      "Requirement already satisfied: fastapi in c:\\users\\gaming\\appdata\\local\\programs\\python\\python312\\lib\\site-packages (from gradio->-r requirements.txt (line 14)) (0.111.0)\n",
      "Requirement already satisfied: ffmpy in c:\\users\\gaming\\appdata\\local\\programs\\python\\python312\\lib\\site-packages (from gradio->-r requirements.txt (line 14)) (0.3.2)\n",
      "Requirement already satisfied: gradio-client==0.17.0 in c:\\users\\gaming\\appdata\\local\\programs\\python\\python312\\lib\\site-packages (from gradio->-r requirements.txt (line 14)) (0.17.0)\n",
      "Requirement already satisfied: importlib-resources<7.0,>=1.3 in c:\\users\\gaming\\appdata\\local\\programs\\python\\python312\\lib\\site-packages (from gradio->-r requirements.txt (line 14)) (6.4.0)\n",
      "Requirement already satisfied: jinja2<4.0 in c:\\users\\gaming\\appdata\\local\\programs\\python\\python312\\lib\\site-packages (from gradio->-r requirements.txt (line 14)) (3.1.4)\n",
      "Requirement already satisfied: markupsafe~=2.0 in c:\\users\\gaming\\appdata\\local\\programs\\python\\python312\\lib\\site-packages (from gradio->-r requirements.txt (line 14)) (2.1.5)\n",
      "Requirement already satisfied: matplotlib~=3.0 in c:\\users\\gaming\\appdata\\local\\programs\\python\\python312\\lib\\site-packages (from gradio->-r requirements.txt (line 14)) (3.9.0)\n",
      "Requirement already satisfied: orjson~=3.0 in c:\\users\\gaming\\appdata\\local\\programs\\python\\python312\\lib\\site-packages (from gradio->-r requirements.txt (line 14)) (3.10.3)\n",
      "Requirement already satisfied: packaging in c:\\users\\gaming\\appdata\\local\\programs\\python\\python312\\lib\\site-packages (from gradio->-r requirements.txt (line 14)) (24.0)\n",
      "Requirement already satisfied: pandas<3.0,>=1.0 in c:\\users\\gaming\\appdata\\local\\programs\\python\\python312\\lib\\site-packages (from gradio->-r requirements.txt (line 14)) (2.2.2)\n",
      "Requirement already satisfied: pillow<11.0,>=8.0 in c:\\users\\gaming\\appdata\\local\\programs\\python\\python312\\lib\\site-packages (from gradio->-r requirements.txt (line 14)) (10.3.0)\n",
      "Requirement already satisfied: python-multipart>=0.0.9 in c:\\users\\gaming\\appdata\\local\\programs\\python\\python312\\lib\\site-packages (from gradio->-r requirements.txt (line 14)) (0.0.9)\n",
      "Requirement already satisfied: pyyaml<7.0,>=5.0 in c:\\users\\gaming\\appdata\\local\\programs\\python\\python312\\lib\\site-packages (from gradio->-r requirements.txt (line 14)) (6.0.1)\n",
      "Requirement already satisfied: ruff>=0.2.2 in c:\\users\\gaming\\appdata\\local\\programs\\python\\python312\\lib\\site-packages (from gradio->-r requirements.txt (line 14)) (0.4.6)\n",
      "Requirement already satisfied: semantic-version~=2.0 in c:\\users\\gaming\\appdata\\local\\programs\\python\\python312\\lib\\site-packages (from gradio->-r requirements.txt (line 14)) (2.10.0)\n",
      "Requirement already satisfied: tomlkit==0.12.0 in c:\\users\\gaming\\appdata\\local\\programs\\python\\python312\\lib\\site-packages (from gradio->-r requirements.txt (line 14)) (0.12.0)\n",
      "Requirement already satisfied: typer<1.0,>=0.12 in c:\\users\\gaming\\appdata\\local\\programs\\python\\python312\\lib\\site-packages (from gradio->-r requirements.txt (line 14)) (0.12.3)\n",
      "Requirement already satisfied: urllib3~=2.0 in c:\\users\\gaming\\appdata\\local\\programs\\python\\python312\\lib\\site-packages (from gradio->-r requirements.txt (line 14)) (2.2.1)\n",
      "Requirement already satisfied: uvicorn>=0.14.0 in c:\\users\\gaming\\appdata\\local\\programs\\python\\python312\\lib\\site-packages (from gradio->-r requirements.txt (line 14)) (0.30.0)\n",
      "Requirement already satisfied: fsspec in c:\\users\\gaming\\appdata\\local\\programs\\python\\python312\\lib\\site-packages (from gradio-client==0.17.0->gradio->-r requirements.txt (line 14)) (2024.5.0)\n",
      "Requirement already satisfied: websockets<12.0,>=10.0 in c:\\users\\gaming\\appdata\\local\\programs\\python\\python312\\lib\\site-packages (from gradio-client==0.17.0->gradio->-r requirements.txt (line 14)) (11.0.3)\n",
      "Requirement already satisfied: jsonschema>=3.0 in c:\\users\\gaming\\appdata\\local\\programs\\python\\python312\\lib\\site-packages (from altair<6.0,>=4.2.0->gradio->-r requirements.txt (line 14)) (4.22.0)\n",
      "Requirement already satisfied: toolz in c:\\users\\gaming\\appdata\\local\\programs\\python\\python312\\lib\\site-packages (from altair<6.0,>=4.2.0->gradio->-r requirements.txt (line 14)) (0.12.1)\n",
      "Requirement already satisfied: idna>=2.8 in c:\\users\\gaming\\appdata\\local\\programs\\python\\python312\\lib\\site-packages (from anyio<5,>=3.5.0->openai->-r requirements.txt (line 9)) (3.7)\n",
      "Requirement already satisfied: certifi in c:\\users\\gaming\\appdata\\local\\programs\\python\\python312\\lib\\site-packages (from httpx<1,>=0.23.0->openai->-r requirements.txt (line 9)) (2024.2.2)\n",
      "Requirement already satisfied: httpcore==1.* in c:\\users\\gaming\\appdata\\local\\programs\\python\\python312\\lib\\site-packages (from httpx<1,>=0.23.0->openai->-r requirements.txt (line 9)) (1.0.5)\n",
      "Requirement already satisfied: h11<0.15,>=0.13 in c:\\users\\gaming\\appdata\\local\\programs\\python\\python312\\lib\\site-packages (from httpcore==1.*->httpx<1,>=0.23.0->openai->-r requirements.txt (line 9)) (0.14.0)\n",
      "Requirement already satisfied: filelock in c:\\users\\gaming\\appdata\\local\\programs\\python\\python312\\lib\\site-packages (from huggingface-hub>=0.13->faster-whisper->-r requirements.txt (line 2)) (3.14.0)\n",
      "Requirement already satisfied: requests in c:\\users\\gaming\\appdata\\local\\programs\\python\\python312\\lib\\site-packages (from huggingface-hub>=0.13->faster-whisper->-r requirements.txt (line 2)) (2.32.2)\n",
      "Requirement already satisfied: contourpy>=1.0.1 in c:\\users\\gaming\\appdata\\local\\programs\\python\\python312\\lib\\site-packages (from matplotlib~=3.0->gradio->-r requirements.txt (line 14)) (1.2.1)\n",
      "Requirement already satisfied: cycler>=0.10 in c:\\users\\gaming\\appdata\\local\\programs\\python\\python312\\lib\\site-packages (from matplotlib~=3.0->gradio->-r requirements.txt (line 14)) (0.12.1)\n",
      "Requirement already satisfied: fonttools>=4.22.0 in c:\\users\\gaming\\appdata\\local\\programs\\python\\python312\\lib\\site-packages (from matplotlib~=3.0->gradio->-r requirements.txt (line 14)) (4.52.4)\n",
      "Requirement already satisfied: kiwisolver>=1.3.1 in c:\\users\\gaming\\appdata\\local\\programs\\python\\python312\\lib\\site-packages (from matplotlib~=3.0->gradio->-r requirements.txt (line 14)) (1.4.5)\n",
      "Requirement already satisfied: pyparsing>=2.3.1 in c:\\users\\gaming\\appdata\\local\\programs\\python\\python312\\lib\\site-packages (from matplotlib~=3.0->gradio->-r requirements.txt (line 14)) (3.1.2)\n",
      "Requirement already satisfied: python-dateutil>=2.7 in c:\\users\\gaming\\appdata\\local\\programs\\python\\python312\\lib\\site-packages (from matplotlib~=3.0->gradio->-r requirements.txt (line 14)) (2.9.0.post0)\n",
      "Requirement already satisfied: llvmlite<0.43,>=0.42.0dev0 in c:\\users\\gaming\\appdata\\local\\programs\\python\\python312\\lib\\site-packages (from numba>=0.51.0->librosa->-r requirements.txt (line 1)) (0.42.0)\n",
      "Requirement already satisfied: coloredlogs in c:\\users\\gaming\\appdata\\local\\programs\\python\\python312\\lib\\site-packages (from onnxruntime<2,>=1.14->faster-whisper->-r requirements.txt (line 2)) (15.0.1)\n",
      "Requirement already satisfied: flatbuffers in c:\\users\\gaming\\appdata\\local\\programs\\python\\python312\\lib\\site-packages (from onnxruntime<2,>=1.14->faster-whisper->-r requirements.txt (line 2)) (24.3.25)\n",
      "Requirement already satisfied: protobuf in c:\\users\\gaming\\appdata\\local\\programs\\python\\python312\\lib\\site-packages (from onnxruntime<2,>=1.14->faster-whisper->-r requirements.txt (line 2)) (5.27.0)\n",
      "Requirement already satisfied: sympy in c:\\users\\gaming\\appdata\\local\\programs\\python\\python312\\lib\\site-packages (from onnxruntime<2,>=1.14->faster-whisper->-r requirements.txt (line 2)) (1.12)\n",
      "Requirement already satisfied: pytz>=2020.1 in c:\\users\\gaming\\appdata\\local\\programs\\python\\python312\\lib\\site-packages (from pandas<3.0,>=1.0->gradio->-r requirements.txt (line 14)) (2024.1)\n",
      "Requirement already satisfied: tzdata>=2022.7 in c:\\users\\gaming\\appdata\\local\\programs\\python\\python312\\lib\\site-packages (from pandas<3.0,>=1.0->gradio->-r requirements.txt (line 14)) (2024.1)\n",
      "Requirement already satisfied: platformdirs>=2.5.0 in c:\\users\\gaming\\appdata\\local\\programs\\python\\python312\\lib\\site-packages (from pooch>=1.1->librosa->-r requirements.txt (line 1)) (4.2.2)\n",
      "Requirement already satisfied: annotated-types>=0.4.0 in c:\\users\\gaming\\appdata\\local\\programs\\python\\python312\\lib\\site-packages (from pydantic<3,>=1.9.0->openai->-r requirements.txt (line 9)) (0.7.0)\n",
      "Requirement already satisfied: pydantic-core==2.18.3 in c:\\users\\gaming\\appdata\\local\\programs\\python\\python312\\lib\\site-packages (from pydantic<3,>=1.9.0->openai->-r requirements.txt (line 9)) (2.18.3)\n",
      "Requirement already satisfied: threadpoolctl>=3.1.0 in c:\\users\\gaming\\appdata\\local\\programs\\python\\python312\\lib\\site-packages (from scikit-learn>=0.20.0->librosa->-r requirements.txt (line 1)) (3.5.0)\n",
      "Requirement already satisfied: cffi>=1.0 in c:\\users\\gaming\\appdata\\local\\programs\\python\\python312\\lib\\site-packages (from soundfile>=0.12.1->librosa->-r requirements.txt (line 1)) (1.16.0)\n",
      "Requirement already satisfied: colorama in c:\\users\\gaming\\appdata\\local\\programs\\python\\python312\\lib\\site-packages (from tqdm->wavmark->-r requirements.txt (line 4)) (0.4.6)\n",
      "Requirement already satisfied: click>=8.0.0 in c:\\users\\gaming\\appdata\\local\\programs\\python\\python312\\lib\\site-packages (from typer<1.0,>=0.12->gradio->-r requirements.txt (line 14)) (8.1.7)\n",
      "Requirement already satisfied: shellingham>=1.3.0 in c:\\users\\gaming\\appdata\\local\\programs\\python\\python312\\lib\\site-packages (from typer<1.0,>=0.12->gradio->-r requirements.txt (line 14)) (1.5.4)\n",
      "Requirement already satisfied: rich>=10.11.0 in c:\\users\\gaming\\appdata\\local\\programs\\python\\python312\\lib\\site-packages (from typer<1.0,>=0.12->gradio->-r requirements.txt (line 14)) (13.7.1)\n",
      "Requirement already satisfied: starlette<0.38.0,>=0.37.2 in c:\\users\\gaming\\appdata\\local\\programs\\python\\python312\\lib\\site-packages (from fastapi->gradio->-r requirements.txt (line 14)) (0.37.2)\n",
      "Requirement already satisfied: fastapi-cli>=0.0.2 in c:\\users\\gaming\\appdata\\local\\programs\\python\\python312\\lib\\site-packages (from fastapi->gradio->-r requirements.txt (line 14)) (0.0.4)\n",
      "Requirement already satisfied: ujson!=4.0.2,!=4.1.0,!=4.2.0,!=4.3.0,!=5.0.0,!=5.1.0,>=4.0.1 in c:\\users\\gaming\\appdata\\local\\programs\\python\\python312\\lib\\site-packages (from fastapi->gradio->-r requirements.txt (line 14)) (5.10.0)\n",
      "Requirement already satisfied: email_validator>=2.0.0 in c:\\users\\gaming\\appdata\\local\\programs\\python\\python312\\lib\\site-packages (from fastapi->gradio->-r requirements.txt (line 14)) (2.1.1)\n",
      "Requirement already satisfied: tiktoken in c:\\users\\gaming\\appdata\\local\\programs\\python\\python312\\lib\\site-packages (from openai-whisper->whisper-timestamped->-r requirements.txt (line 8)) (0.7.0)\n",
      "Requirement already satisfied: networkx in c:\\users\\gaming\\appdata\\local\\programs\\python\\python312\\lib\\site-packages (from torch->wavmark->-r requirements.txt (line 4)) (3.3)\n",
      "Requirement already satisfied: mkl<=2021.4.0,>=2021.1.1 in c:\\users\\gaming\\appdata\\local\\programs\\python\\python312\\lib\\site-packages (from torch->wavmark->-r requirements.txt (line 4)) (2021.4.0)\n",
      "Requirement already satisfied: pycparser in c:\\users\\gaming\\appdata\\local\\programs\\python\\python312\\lib\\site-packages (from cffi>=1.0->soundfile>=0.12.1->librosa->-r requirements.txt (line 1)) (2.22)\n",
      "Requirement already satisfied: dnspython>=2.0.0 in c:\\users\\gaming\\appdata\\local\\programs\\python\\python312\\lib\\site-packages (from email_validator>=2.0.0->fastapi->gradio->-r requirements.txt (line 14)) (2.6.1)\n",
      "Requirement already satisfied: attrs>=22.2.0 in c:\\users\\gaming\\appdata\\local\\programs\\python\\python312\\lib\\site-packages (from jsonschema>=3.0->altair<6.0,>=4.2.0->gradio->-r requirements.txt (line 14)) (23.2.0)\n",
      "Requirement already satisfied: jsonschema-specifications>=2023.03.6 in c:\\users\\gaming\\appdata\\local\\programs\\python\\python312\\lib\\site-packages (from jsonschema>=3.0->altair<6.0,>=4.2.0->gradio->-r requirements.txt (line 14)) (2023.12.1)\n",
      "Requirement already satisfied: referencing>=0.28.4 in c:\\users\\gaming\\appdata\\local\\programs\\python\\python312\\lib\\site-packages (from jsonschema>=3.0->altair<6.0,>=4.2.0->gradio->-r requirements.txt (line 14)) (0.35.1)\n",
      "Requirement already satisfied: rpds-py>=0.7.1 in c:\\users\\gaming\\appdata\\local\\programs\\python\\python312\\lib\\site-packages (from jsonschema>=3.0->altair<6.0,>=4.2.0->gradio->-r requirements.txt (line 14)) (0.18.1)\n",
      "Requirement already satisfied: intel-openmp==2021.* in c:\\users\\gaming\\appdata\\local\\programs\\python\\python312\\lib\\site-packages (from mkl<=2021.4.0,>=2021.1.1->torch->wavmark->-r requirements.txt (line 4)) (2021.4.0)\n",
      "Requirement already satisfied: tbb==2021.* in c:\\users\\gaming\\appdata\\local\\programs\\python\\python312\\lib\\site-packages (from mkl<=2021.4.0,>=2021.1.1->torch->wavmark->-r requirements.txt (line 4)) (2021.12.0)\n",
      "Requirement already satisfied: six>=1.5 in c:\\users\\gaming\\appdata\\local\\programs\\python\\python312\\lib\\site-packages (from python-dateutil>=2.7->matplotlib~=3.0->gradio->-r requirements.txt (line 14)) (1.16.0)\n",
      "Requirement already satisfied: charset-normalizer<4,>=2 in c:\\users\\gaming\\appdata\\local\\programs\\python\\python312\\lib\\site-packages (from requests->huggingface-hub>=0.13->faster-whisper->-r requirements.txt (line 2)) (3.3.2)\n",
      "Requirement already satisfied: markdown-it-py>=2.2.0 in c:\\users\\gaming\\appdata\\local\\programs\\python\\python312\\lib\\site-packages (from rich>=10.11.0->typer<1.0,>=0.12->gradio->-r requirements.txt (line 14)) (3.0.0)\n",
      "Requirement already satisfied: pygments<3.0.0,>=2.13.0 in c:\\users\\gaming\\appdata\\roaming\\python\\python312\\site-packages (from rich>=10.11.0->typer<1.0,>=0.12->gradio->-r requirements.txt (line 14)) (2.18.0)\n",
      "Requirement already satisfied: httptools>=0.5.0 in c:\\users\\gaming\\appdata\\local\\programs\\python\\python312\\lib\\site-packages (from uvicorn[standard]>=0.12.0->fastapi->gradio->-r requirements.txt (line 14)) (0.6.1)\n",
      "Requirement already satisfied: watchfiles>=0.13 in c:\\users\\gaming\\appdata\\local\\programs\\python\\python312\\lib\\site-packages (from uvicorn[standard]>=0.12.0->fastapi->gradio->-r requirements.txt (line 14)) (0.22.0)\n",
      "Requirement already satisfied: humanfriendly>=9.1 in c:\\users\\gaming\\appdata\\local\\programs\\python\\python312\\lib\\site-packages (from coloredlogs->onnxruntime<2,>=1.14->faster-whisper->-r requirements.txt (line 2)) (10.0)\n",
      "Requirement already satisfied: mpmath>=0.19 in c:\\users\\gaming\\appdata\\local\\programs\\python\\python312\\lib\\site-packages (from sympy->onnxruntime<2,>=1.14->faster-whisper->-r requirements.txt (line 2)) (1.3.0)\n",
      "Requirement already satisfied: regex>=2022.1.18 in c:\\users\\gaming\\appdata\\local\\programs\\python\\python312\\lib\\site-packages (from tiktoken->openai-whisper->whisper-timestamped->-r requirements.txt (line 8)) (2024.5.15)\n",
      "Requirement already satisfied: pyreadline3 in c:\\users\\gaming\\appdata\\local\\programs\\python\\python312\\lib\\site-packages (from humanfriendly>=9.1->coloredlogs->onnxruntime<2,>=1.14->faster-whisper->-r requirements.txt (line 2)) (3.4.1)\n",
      "Requirement already satisfied: mdurl~=0.1 in c:\\users\\gaming\\appdata\\local\\programs\\python\\python312\\lib\\site-packages (from markdown-it-py>=2.2.0->rich>=10.11.0->typer<1.0,>=0.12->gradio->-r requirements.txt (line 14)) (0.1.2)\n"
     ]
    }
   ],
   "source": [
    "!pip install -r requirements.txt\n",
    "!pip install --upgrade huggingface_hub"
   ]
  },
  {
   "cell_type": "code",
   "execution_count": 52,
   "id": "b7f043ee",
   "metadata": {},
   "outputs": [],
   "source": [
    "import os\n",
    "import torch\n",
    "from openvoice import se_extractor\n",
    "from openvoice.api import BaseSpeakerTTS, ToneColorConverter"
   ]
  },
  {
   "cell_type": "markdown",
   "id": "15116b59",
   "metadata": {},
   "source": [
    "### Initialization"
   ]
  },
  {
   "cell_type": "code",
   "execution_count": 53,
   "id": "aacad912",
   "metadata": {},
   "outputs": [
    {
     "name": "stderr",
     "output_type": "stream",
     "text": [
      "c:\\Users\\Gaming\\AppData\\Local\\Programs\\Python\\Python312\\Lib\\site-packages\\torch\\nn\\utils\\weight_norm.py:28: UserWarning: torch.nn.utils.weight_norm is deprecated in favor of torch.nn.utils.parametrizations.weight_norm.\n",
      "  warnings.warn(\"torch.nn.utils.weight_norm is deprecated in favor of torch.nn.utils.parametrizations.weight_norm.\")\n"
     ]
    },
    {
     "name": "stdout",
     "output_type": "stream",
     "text": [
      "Loaded checkpoint 'checkpoints/base_speakers/EN/checkpoint.pth'\n",
      "missing/unexpected keys: [] []\n",
      "Loaded checkpoint 'checkpoints/converter/checkpoint.pth'\n",
      "missing/unexpected keys: [] []\n"
     ]
    }
   ],
   "source": [
    "ckpt_base = 'checkpoints/base_speakers/EN'\n",
    "ckpt_converter = 'checkpoints/converter'\n",
    "device=\"cuda:0\" if torch.cuda.is_available() else \"cpu\"\n",
    "output_dir = 'outputs'\n",
    "\n",
    "base_speaker_tts = BaseSpeakerTTS(f'{ckpt_base}/config.json', device=device)\n",
    "base_speaker_tts.load_ckpt(f'{ckpt_base}/checkpoint.pth')\n",
    "\n",
    "tone_color_converter = ToneColorConverter(f'{ckpt_converter}/config.json', device=device)\n",
    "tone_color_converter.load_ckpt(f'{ckpt_converter}/checkpoint.pth')\n",
    "\n",
    "os.makedirs(output_dir, exist_ok=True)"
   ]
  },
  {
   "cell_type": "markdown",
   "id": "7f67740c",
   "metadata": {},
   "source": [
    "### Obtain Tone Color Embedding"
   ]
  },
  {
   "cell_type": "markdown",
   "id": "f8add279",
   "metadata": {},
   "source": [
    "The `source_se` is the tone color embedding of the base speaker. \n",
    "It is an average of multiple sentences generated by the base speaker. We directly provide the result here but\n",
    "the readers feel free to extract `source_se` by themselves."
   ]
  },
  {
   "cell_type": "code",
   "execution_count": 54,
   "id": "63ff6273",
   "metadata": {},
   "outputs": [],
   "source": [
    "source_se = torch.load(f'{ckpt_base}/en_default_se.pth').to(device)"
   ]
  },
  {
   "cell_type": "markdown",
   "id": "4f71fcc3",
   "metadata": {},
   "source": [
    "The `reference_speaker.mp3` below points to the short audio clip of the reference whose voice we want to clone. We provide an example here. If you use your own reference speakers, please **make sure each speaker has a unique filename.** The `se_extractor` will save the `targeted_se` using the filename of the audio and **will not automatically overwrite.**"
   ]
  },
  {
   "cell_type": "code",
   "execution_count": 55,
   "id": "55105eae",
   "metadata": {},
   "outputs": [
    {
     "name": "stdout",
     "output_type": "stream",
     "text": [
      "OpenVoice version: v1\n",
      "[(0.0, 58.8188125)]\n"
     ]
    },
    {
     "ename": "FileNotFoundError",
     "evalue": "[WinError 2] The system cannot find the file specified",
     "output_type": "error",
     "traceback": [
      "\u001b[1;31m---------------------------------------------------------------------------\u001b[0m",
      "\u001b[1;31mFileNotFoundError\u001b[0m                         Traceback (most recent call last)",
      "Cell \u001b[1;32mIn[55], line 2\u001b[0m\n\u001b[0;32m      1\u001b[0m reference_speaker \u001b[38;5;241m=\u001b[39m \u001b[38;5;124m'\u001b[39m\u001b[38;5;124mexample_reference.mp3\u001b[39m\u001b[38;5;124m'\u001b[39m \u001b[38;5;66;03m# This is the voice you want to clone\u001b[39;00m\n\u001b[1;32m----> 2\u001b[0m target_se, audio_name \u001b[38;5;241m=\u001b[39m \u001b[43mse_extractor\u001b[49m\u001b[38;5;241;43m.\u001b[39;49m\u001b[43mget_se\u001b[49m\u001b[43m(\u001b[49m\u001b[43mreference_speaker\u001b[49m\u001b[43m,\u001b[49m\u001b[43m \u001b[49m\u001b[43mtone_color_converter\u001b[49m\u001b[43m,\u001b[49m\u001b[43m \u001b[49m\u001b[43mtarget_dir\u001b[49m\u001b[38;5;241;43m=\u001b[39;49m\u001b[38;5;124;43m'\u001b[39;49m\u001b[38;5;124;43mprocessed\u001b[39;49m\u001b[38;5;124;43m'\u001b[39;49m\u001b[43m,\u001b[49m\u001b[43m \u001b[49m\u001b[43mvad\u001b[49m\u001b[38;5;241;43m=\u001b[39;49m\u001b[38;5;28;43;01mTrue\u001b[39;49;00m\u001b[43m)\u001b[49m\n",
      "File \u001b[1;32me:\\Github Repos\\OpenVoice\\openvoice\\se_extractor.py:144\u001b[0m, in \u001b[0;36mget_se\u001b[1;34m(audio_path, vc_model, target_dir, vad)\u001b[0m\n\u001b[0;32m    137\u001b[0m \u001b[38;5;66;03m# if os.path.isfile(se_path):\u001b[39;00m\n\u001b[0;32m    138\u001b[0m \u001b[38;5;66;03m#     se = torch.load(se_path).to(device)\u001b[39;00m\n\u001b[0;32m    139\u001b[0m \u001b[38;5;66;03m#     return se, audio_name\u001b[39;00m\n\u001b[0;32m    140\u001b[0m \u001b[38;5;66;03m# if os.path.isdir(audio_path):\u001b[39;00m\n\u001b[0;32m    141\u001b[0m \u001b[38;5;66;03m#     wavs_folder = audio_path\u001b[39;00m\n\u001b[0;32m    143\u001b[0m \u001b[38;5;28;01mif\u001b[39;00m vad:\n\u001b[1;32m--> 144\u001b[0m     wavs_folder \u001b[38;5;241m=\u001b[39m \u001b[43msplit_audio_vad\u001b[49m\u001b[43m(\u001b[49m\u001b[43maudio_path\u001b[49m\u001b[43m,\u001b[49m\u001b[43m \u001b[49m\u001b[43mtarget_dir\u001b[49m\u001b[38;5;241;43m=\u001b[39;49m\u001b[43mtarget_dir\u001b[49m\u001b[43m,\u001b[49m\u001b[43m \u001b[49m\u001b[43maudio_name\u001b[49m\u001b[38;5;241;43m=\u001b[39;49m\u001b[43maudio_name\u001b[49m\u001b[43m)\u001b[49m\n\u001b[0;32m    145\u001b[0m \u001b[38;5;28;01melse\u001b[39;00m:\n\u001b[0;32m    146\u001b[0m     wavs_folder \u001b[38;5;241m=\u001b[39m split_audio_whisper(audio_path, target_dir\u001b[38;5;241m=\u001b[39mtarget_dir, audio_name\u001b[38;5;241m=\u001b[39maudio_name)\n",
      "File \u001b[1;32me:\\Github Repos\\OpenVoice\\openvoice\\se_extractor.py:91\u001b[0m, in \u001b[0;36msplit_audio_vad\u001b[1;34m(audio_path, audio_name, target_dir, split_seconds)\u001b[0m\n\u001b[0;32m     89\u001b[0m \u001b[38;5;28mprint\u001b[39m(segments)\n\u001b[0;32m     90\u001b[0m audio_active \u001b[38;5;241m=\u001b[39m AudioSegment\u001b[38;5;241m.\u001b[39msilent(duration\u001b[38;5;241m=\u001b[39m\u001b[38;5;241m0\u001b[39m)\n\u001b[1;32m---> 91\u001b[0m audio \u001b[38;5;241m=\u001b[39m \u001b[43mAudioSegment\u001b[49m\u001b[38;5;241;43m.\u001b[39;49m\u001b[43mfrom_file\u001b[49m\u001b[43m(\u001b[49m\u001b[43maudio_path\u001b[49m\u001b[43m)\u001b[49m\n\u001b[0;32m     93\u001b[0m \u001b[38;5;28;01mfor\u001b[39;00m start_time, end_time \u001b[38;5;129;01min\u001b[39;00m segments:\n\u001b[0;32m     94\u001b[0m     audio_active \u001b[38;5;241m+\u001b[39m\u001b[38;5;241m=\u001b[39m audio[\u001b[38;5;28mint\u001b[39m( start_time \u001b[38;5;241m*\u001b[39m \u001b[38;5;241m1000\u001b[39m) : \u001b[38;5;28mint\u001b[39m(end_time \u001b[38;5;241m*\u001b[39m \u001b[38;5;241m1000\u001b[39m)]\n",
      "File \u001b[1;32mc:\\Users\\Gaming\\AppData\\Local\\Programs\\Python\\Python312\\Lib\\site-packages\\pydub\\audio_segment.py:728\u001b[0m, in \u001b[0;36mAudioSegment.from_file\u001b[1;34m(cls, file, format, codec, parameters, start_second, duration, **kwargs)\u001b[0m\n\u001b[0;32m    726\u001b[0m     info \u001b[38;5;241m=\u001b[39m \u001b[38;5;28;01mNone\u001b[39;00m\n\u001b[0;32m    727\u001b[0m \u001b[38;5;28;01melse\u001b[39;00m:\n\u001b[1;32m--> 728\u001b[0m     info \u001b[38;5;241m=\u001b[39m \u001b[43mmediainfo_json\u001b[49m\u001b[43m(\u001b[49m\u001b[43morig_file\u001b[49m\u001b[43m,\u001b[49m\u001b[43m \u001b[49m\u001b[43mread_ahead_limit\u001b[49m\u001b[38;5;241;43m=\u001b[39;49m\u001b[43mread_ahead_limit\u001b[49m\u001b[43m)\u001b[49m\n\u001b[0;32m    729\u001b[0m \u001b[38;5;28;01mif\u001b[39;00m info:\n\u001b[0;32m    730\u001b[0m     audio_streams \u001b[38;5;241m=\u001b[39m [x \u001b[38;5;28;01mfor\u001b[39;00m x \u001b[38;5;129;01min\u001b[39;00m info[\u001b[38;5;124m'\u001b[39m\u001b[38;5;124mstreams\u001b[39m\u001b[38;5;124m'\u001b[39m]\n\u001b[0;32m    731\u001b[0m                      \u001b[38;5;28;01mif\u001b[39;00m x[\u001b[38;5;124m'\u001b[39m\u001b[38;5;124mcodec_type\u001b[39m\u001b[38;5;124m'\u001b[39m] \u001b[38;5;241m==\u001b[39m \u001b[38;5;124m'\u001b[39m\u001b[38;5;124maudio\u001b[39m\u001b[38;5;124m'\u001b[39m]\n",
      "File \u001b[1;32mc:\\Users\\Gaming\\AppData\\Local\\Programs\\Python\\Python312\\Lib\\site-packages\\pydub\\utils.py:274\u001b[0m, in \u001b[0;36mmediainfo_json\u001b[1;34m(filepath, read_ahead_limit)\u001b[0m\n\u001b[0;32m    271\u001b[0m         file\u001b[38;5;241m.\u001b[39mclose()\n\u001b[0;32m    273\u001b[0m command \u001b[38;5;241m=\u001b[39m [prober, \u001b[38;5;124m'\u001b[39m\u001b[38;5;124m-of\u001b[39m\u001b[38;5;124m'\u001b[39m, \u001b[38;5;124m'\u001b[39m\u001b[38;5;124mjson\u001b[39m\u001b[38;5;124m'\u001b[39m] \u001b[38;5;241m+\u001b[39m command_args\n\u001b[1;32m--> 274\u001b[0m res \u001b[38;5;241m=\u001b[39m \u001b[43mPopen\u001b[49m\u001b[43m(\u001b[49m\u001b[43mcommand\u001b[49m\u001b[43m,\u001b[49m\u001b[43m \u001b[49m\u001b[43mstdin\u001b[49m\u001b[38;5;241;43m=\u001b[39;49m\u001b[43mstdin_parameter\u001b[49m\u001b[43m,\u001b[49m\u001b[43m \u001b[49m\u001b[43mstdout\u001b[49m\u001b[38;5;241;43m=\u001b[39;49m\u001b[43mPIPE\u001b[49m\u001b[43m,\u001b[49m\u001b[43m \u001b[49m\u001b[43mstderr\u001b[49m\u001b[38;5;241;43m=\u001b[39;49m\u001b[43mPIPE\u001b[49m\u001b[43m)\u001b[49m\n\u001b[0;32m    275\u001b[0m output, stderr \u001b[38;5;241m=\u001b[39m res\u001b[38;5;241m.\u001b[39mcommunicate(\u001b[38;5;28minput\u001b[39m\u001b[38;5;241m=\u001b[39mstdin_data)\n\u001b[0;32m    276\u001b[0m output \u001b[38;5;241m=\u001b[39m output\u001b[38;5;241m.\u001b[39mdecode(\u001b[38;5;124m\"\u001b[39m\u001b[38;5;124mutf-8\u001b[39m\u001b[38;5;124m\"\u001b[39m, \u001b[38;5;124m'\u001b[39m\u001b[38;5;124mignore\u001b[39m\u001b[38;5;124m'\u001b[39m)\n",
      "File \u001b[1;32mc:\\Users\\Gaming\\AppData\\Local\\Programs\\Python\\Python312\\Lib\\subprocess.py:1026\u001b[0m, in \u001b[0;36mPopen.__init__\u001b[1;34m(self, args, bufsize, executable, stdin, stdout, stderr, preexec_fn, close_fds, shell, cwd, env, universal_newlines, startupinfo, creationflags, restore_signals, start_new_session, pass_fds, user, group, extra_groups, encoding, errors, text, umask, pipesize, process_group)\u001b[0m\n\u001b[0;32m   1022\u001b[0m         \u001b[38;5;28;01mif\u001b[39;00m \u001b[38;5;28mself\u001b[39m\u001b[38;5;241m.\u001b[39mtext_mode:\n\u001b[0;32m   1023\u001b[0m             \u001b[38;5;28mself\u001b[39m\u001b[38;5;241m.\u001b[39mstderr \u001b[38;5;241m=\u001b[39m io\u001b[38;5;241m.\u001b[39mTextIOWrapper(\u001b[38;5;28mself\u001b[39m\u001b[38;5;241m.\u001b[39mstderr,\n\u001b[0;32m   1024\u001b[0m                     encoding\u001b[38;5;241m=\u001b[39mencoding, errors\u001b[38;5;241m=\u001b[39merrors)\n\u001b[1;32m-> 1026\u001b[0m     \u001b[38;5;28;43mself\u001b[39;49m\u001b[38;5;241;43m.\u001b[39;49m\u001b[43m_execute_child\u001b[49m\u001b[43m(\u001b[49m\u001b[43margs\u001b[49m\u001b[43m,\u001b[49m\u001b[43m \u001b[49m\u001b[43mexecutable\u001b[49m\u001b[43m,\u001b[49m\u001b[43m \u001b[49m\u001b[43mpreexec_fn\u001b[49m\u001b[43m,\u001b[49m\u001b[43m \u001b[49m\u001b[43mclose_fds\u001b[49m\u001b[43m,\u001b[49m\n\u001b[0;32m   1027\u001b[0m \u001b[43m                        \u001b[49m\u001b[43mpass_fds\u001b[49m\u001b[43m,\u001b[49m\u001b[43m \u001b[49m\u001b[43mcwd\u001b[49m\u001b[43m,\u001b[49m\u001b[43m \u001b[49m\u001b[43menv\u001b[49m\u001b[43m,\u001b[49m\n\u001b[0;32m   1028\u001b[0m \u001b[43m                        \u001b[49m\u001b[43mstartupinfo\u001b[49m\u001b[43m,\u001b[49m\u001b[43m \u001b[49m\u001b[43mcreationflags\u001b[49m\u001b[43m,\u001b[49m\u001b[43m \u001b[49m\u001b[43mshell\u001b[49m\u001b[43m,\u001b[49m\n\u001b[0;32m   1029\u001b[0m \u001b[43m                        \u001b[49m\u001b[43mp2cread\u001b[49m\u001b[43m,\u001b[49m\u001b[43m \u001b[49m\u001b[43mp2cwrite\u001b[49m\u001b[43m,\u001b[49m\n\u001b[0;32m   1030\u001b[0m \u001b[43m                        \u001b[49m\u001b[43mc2pread\u001b[49m\u001b[43m,\u001b[49m\u001b[43m \u001b[49m\u001b[43mc2pwrite\u001b[49m\u001b[43m,\u001b[49m\n\u001b[0;32m   1031\u001b[0m \u001b[43m                        \u001b[49m\u001b[43merrread\u001b[49m\u001b[43m,\u001b[49m\u001b[43m \u001b[49m\u001b[43merrwrite\u001b[49m\u001b[43m,\u001b[49m\n\u001b[0;32m   1032\u001b[0m \u001b[43m                        \u001b[49m\u001b[43mrestore_signals\u001b[49m\u001b[43m,\u001b[49m\n\u001b[0;32m   1033\u001b[0m \u001b[43m                        \u001b[49m\u001b[43mgid\u001b[49m\u001b[43m,\u001b[49m\u001b[43m \u001b[49m\u001b[43mgids\u001b[49m\u001b[43m,\u001b[49m\u001b[43m \u001b[49m\u001b[43muid\u001b[49m\u001b[43m,\u001b[49m\u001b[43m \u001b[49m\u001b[43mumask\u001b[49m\u001b[43m,\u001b[49m\n\u001b[0;32m   1034\u001b[0m \u001b[43m                        \u001b[49m\u001b[43mstart_new_session\u001b[49m\u001b[43m,\u001b[49m\u001b[43m \u001b[49m\u001b[43mprocess_group\u001b[49m\u001b[43m)\u001b[49m\n\u001b[0;32m   1035\u001b[0m \u001b[38;5;28;01mexcept\u001b[39;00m:\n\u001b[0;32m   1036\u001b[0m     \u001b[38;5;66;03m# Cleanup if the child failed starting.\u001b[39;00m\n\u001b[0;32m   1037\u001b[0m     \u001b[38;5;28;01mfor\u001b[39;00m f \u001b[38;5;129;01min\u001b[39;00m \u001b[38;5;28mfilter\u001b[39m(\u001b[38;5;28;01mNone\u001b[39;00m, (\u001b[38;5;28mself\u001b[39m\u001b[38;5;241m.\u001b[39mstdin, \u001b[38;5;28mself\u001b[39m\u001b[38;5;241m.\u001b[39mstdout, \u001b[38;5;28mself\u001b[39m\u001b[38;5;241m.\u001b[39mstderr)):\n",
      "File \u001b[1;32mc:\\Users\\Gaming\\AppData\\Local\\Programs\\Python\\Python312\\Lib\\subprocess.py:1538\u001b[0m, in \u001b[0;36mPopen._execute_child\u001b[1;34m(self, args, executable, preexec_fn, close_fds, pass_fds, cwd, env, startupinfo, creationflags, shell, p2cread, p2cwrite, c2pread, c2pwrite, errread, errwrite, unused_restore_signals, unused_gid, unused_gids, unused_uid, unused_umask, unused_start_new_session, unused_process_group)\u001b[0m\n\u001b[0;32m   1536\u001b[0m \u001b[38;5;66;03m# Start the process\u001b[39;00m\n\u001b[0;32m   1537\u001b[0m \u001b[38;5;28;01mtry\u001b[39;00m:\n\u001b[1;32m-> 1538\u001b[0m     hp, ht, pid, tid \u001b[38;5;241m=\u001b[39m \u001b[43m_winapi\u001b[49m\u001b[38;5;241;43m.\u001b[39;49m\u001b[43mCreateProcess\u001b[49m\u001b[43m(\u001b[49m\u001b[43mexecutable\u001b[49m\u001b[43m,\u001b[49m\u001b[43m \u001b[49m\u001b[43margs\u001b[49m\u001b[43m,\u001b[49m\n\u001b[0;32m   1539\u001b[0m \u001b[43m                             \u001b[49m\u001b[38;5;66;43;03m# no special security\u001b[39;49;00m\n\u001b[0;32m   1540\u001b[0m \u001b[43m                             \u001b[49m\u001b[38;5;28;43;01mNone\u001b[39;49;00m\u001b[43m,\u001b[49m\u001b[43m \u001b[49m\u001b[38;5;28;43;01mNone\u001b[39;49;00m\u001b[43m,\u001b[49m\n\u001b[0;32m   1541\u001b[0m \u001b[43m                             \u001b[49m\u001b[38;5;28;43mint\u001b[39;49m\u001b[43m(\u001b[49m\u001b[38;5;129;43;01mnot\u001b[39;49;00m\u001b[43m \u001b[49m\u001b[43mclose_fds\u001b[49m\u001b[43m)\u001b[49m\u001b[43m,\u001b[49m\n\u001b[0;32m   1542\u001b[0m \u001b[43m                             \u001b[49m\u001b[43mcreationflags\u001b[49m\u001b[43m,\u001b[49m\n\u001b[0;32m   1543\u001b[0m \u001b[43m                             \u001b[49m\u001b[43menv\u001b[49m\u001b[43m,\u001b[49m\n\u001b[0;32m   1544\u001b[0m \u001b[43m                             \u001b[49m\u001b[43mcwd\u001b[49m\u001b[43m,\u001b[49m\n\u001b[0;32m   1545\u001b[0m \u001b[43m                             \u001b[49m\u001b[43mstartupinfo\u001b[49m\u001b[43m)\u001b[49m\n\u001b[0;32m   1546\u001b[0m \u001b[38;5;28;01mfinally\u001b[39;00m:\n\u001b[0;32m   1547\u001b[0m     \u001b[38;5;66;03m# Child is launched. Close the parent's copy of those pipe\u001b[39;00m\n\u001b[0;32m   1548\u001b[0m     \u001b[38;5;66;03m# handles that only the child should have open.  You need\u001b[39;00m\n\u001b[1;32m   (...)\u001b[0m\n\u001b[0;32m   1551\u001b[0m     \u001b[38;5;66;03m# pipe will not close when the child process exits and the\u001b[39;00m\n\u001b[0;32m   1552\u001b[0m     \u001b[38;5;66;03m# ReadFile will hang.\u001b[39;00m\n\u001b[0;32m   1553\u001b[0m     \u001b[38;5;28mself\u001b[39m\u001b[38;5;241m.\u001b[39m_close_pipe_fds(p2cread, p2cwrite,\n\u001b[0;32m   1554\u001b[0m                          c2pread, c2pwrite,\n\u001b[0;32m   1555\u001b[0m                          errread, errwrite)\n",
      "\u001b[1;31mFileNotFoundError\u001b[0m: [WinError 2] The system cannot find the file specified"
     ]
    }
   ],
   "source": [
    "reference_speaker = 'resources/example_reference.mp3' # This is the voice you want to clone\n",
    "target_se, audio_name = se_extractor.get_se(reference_speaker, tone_color_converter, target_dir='processed', vad=True)"
   ]
  },
  {
   "cell_type": "markdown",
   "id": "a40284aa",
   "metadata": {},
   "source": [
    "### Inference"
   ]
  },
  {
   "cell_type": "code",
   "execution_count": null,
   "id": "73dc1259",
   "metadata": {},
   "outputs": [],
   "source": [
    "save_path = f'{output_dir}/output_en_default.wav'\n",
    "\n",
    "# Run the base speaker tts\n",
    "text = \"This audio is generated by OpenVoice.\"\n",
    "src_path = f'{output_dir}/tmp.wav'\n",
    "base_speaker_tts.tts(text, src_path, speaker='default', language='English', speed=1.0)\n",
    "\n",
    "# Run the tone color converter\n",
    "encode_message = \"@MyShell\"\n",
    "tone_color_converter.convert(\n",
    "    audio_src_path=src_path, \n",
    "    src_se=source_se, \n",
    "    tgt_se=target_se, \n",
    "    output_path=save_path,\n",
    "    message=encode_message)"
   ]
  },
  {
   "cell_type": "markdown",
   "id": "6e3ea28a",
   "metadata": {},
   "source": [
    "**Try with different styles and speed.** The style can be controlled by the `speaker` parameter in the `base_speaker_tts.tts` method. Available choices: friendly, cheerful, excited, sad, angry, terrified, shouting, whispering. Note that the tone color embedding need to be updated. The speed can be controlled by the `speed` parameter. Let's try whispering with speed 0.9."
   ]
  },
  {
   "cell_type": "code",
   "execution_count": null,
   "id": "fd022d38",
   "metadata": {},
   "outputs": [],
   "source": [
    "source_se = torch.load(f'{ckpt_base}/en_style_se.pth').to(device)\n",
    "save_path = f'{output_dir}/output_whispering.wav'\n",
    "\n",
    "# Run the base speaker tts\n",
    "text = \"This audio is generated by OpenVoice.\"\n",
    "src_path = f'{output_dir}/tmp.wav'\n",
    "base_speaker_tts.tts(text, src_path, speaker='whispering', language='English', speed=0.9)\n",
    "\n",
    "# Run the tone color converter\n",
    "encode_message = \"@MyShell\"\n",
    "tone_color_converter.convert(\n",
    "    audio_src_path=src_path, \n",
    "    src_se=source_se, \n",
    "    tgt_se=target_se, \n",
    "    output_path=save_path,\n",
    "    message=encode_message)"
   ]
  },
  {
   "cell_type": "markdown",
   "id": "5fcfc70b",
   "metadata": {},
   "source": [
    "**Try with different languages.** OpenVoice can achieve multi-lingual voice cloning by simply replace the base speaker. We provide an example with a Chinese base speaker here and we encourage the readers to try `demo_part2.ipynb` for a detailed demo."
   ]
  },
  {
   "cell_type": "code",
   "execution_count": null,
   "id": "a71d1387",
   "metadata": {},
   "outputs": [],
   "source": [
    "\n",
    "ckpt_base = 'checkpoints/base_speakers/ZH'\n",
    "base_speaker_tts = BaseSpeakerTTS(f'{ckpt_base}/config.json', device=device)\n",
    "base_speaker_tts.load_ckpt(f'{ckpt_base}/checkpoint.pth')\n",
    "\n",
    "source_se = torch.load(f'{ckpt_base}/zh_default_se.pth').to(device)\n",
    "save_path = f'{output_dir}/output_chinese.wav'\n",
    "\n",
    "# Run the base speaker tts\n",
    "text = \"今天天气真好，我们一起出去吃饭吧。\"\n",
    "src_path = f'{output_dir}/tmp.wav'\n",
    "base_speaker_tts.tts(text, src_path, speaker='default', language='Chinese', speed=1.0)\n",
    "\n",
    "# Run the tone color converter\n",
    "encode_message = \"@MyShell\"\n",
    "tone_color_converter.convert(\n",
    "    audio_src_path=src_path, \n",
    "    src_se=source_se, \n",
    "    tgt_se=target_se, \n",
    "    output_path=save_path,\n",
    "    message=encode_message)"
   ]
  },
  {
   "cell_type": "markdown",
   "id": "8e513094",
   "metadata": {},
   "source": [
    "**Tech for good.** For people who will deploy OpenVoice for public usage: We offer you the option to add watermark to avoid potential misuse. Please see the ToneColorConverter class. **MyShell reserves the ability to detect whether an audio is generated by OpenVoice**, no matter whether the watermark is added or not."
   ]
  }
 ],
 "metadata": {
  "interpreter": {
   "hash": "9d70c38e1c0b038dbdffdaa4f8bfa1f6767c43760905c87a9fbe7800d18c6c35"
  },
  "kernelspec": {
   "display_name": "Python 3 (ipykernel)",
   "language": "python",
   "name": "python3"
  },
  "language_info": {
   "codemirror_mode": {
    "name": "ipython",
    "version": 3
   },
   "file_extension": ".py",
   "mimetype": "text/x-python",
   "name": "python",
   "nbconvert_exporter": "python",
   "pygments_lexer": "ipython3",
   "version": "3.12.3"
  }
 },
 "nbformat": 4,
 "nbformat_minor": 5
}
